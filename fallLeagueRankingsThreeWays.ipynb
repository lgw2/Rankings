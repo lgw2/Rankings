{
 "metadata": {
  "name": ""
 },
 "nbformat": 3,
 "nbformat_minor": 0,
 "worksheets": [
  {
   "cells": [
    {
     "cell_type": "code",
     "collapsed": false,
     "input": [
      "from numpy import matrix\n",
      "from numpy import divide\n",
      "from numpy import ones\n",
      "from numpy import linalg\n",
      "import math\n",
      "teamList = [\"Piehole\",\"Ghetto Birds\",\n",
      "            \"Whiskey Tango Foxtrot\",\n",
      "            \"Eats, Throws, and Leaves\",\n",
      "            \"Jazz Picnic\",\"Toolbox\",\n",
      "            \"Blue Footed Boobies\"]\n",
      "# win matrix is the adjacency matrix for all teams\n",
      "basicWinMatrix = matrix([[0,1,1,1,1,1,1],[0,0,1,1,0,1,1],\n",
      "                    [0,0,0,0,1,1,1],[0,0,1,0,0,1,1],\n",
      "                    [0,1,0,1,0,1,0],[0,0,0,0,0,0,1],\n",
      "                    [0,0,0,0,1,0,0]])\n",
      "\n",
      "# this function takes the score that team i earned\n",
      "# against team j and returns a value for aij\n",
      "def nonLinearAij(si, sj):\n",
      "    # floats vs integers, such a problem all the time\n",
      "    si = float(si)\n",
      "    sj = float(sj)\n",
      "    x = (si + 1)/(si + sj + 2)\n",
      "    y = math.copysign(1, (x-1))\n",
      "    z = math.sqrt(math.fabs(2*x-1))\n",
      "    # math.copysign(x,y) returns x with the sign of y\n",
      "    hx = .5 + (.5)*math.copysign(1,(x-1))*math.sqrt(math.fabs(2*x-1))\n",
      "    return hx\n",
      "\n",
      "# replace 1s and 0s with score tuples (si,sj)\n",
      "scoresArray = [[0,(15,13),(15,11),(15,11),(15,10),(15,11),(15,12)],\n",
      "               [(13,15),0,(15,9),(15,13),(13,15),(15,12),(15,10)],\n",
      "               [(11,15),(9,15),0,(15,17),(21,15),(16,14),(15,9)],\n",
      "               [(11,15),(10,15),(17,15),0,(12,15),(15,8),(15,9)],\n",
      "               [(10,15),(15,13),(15,21),(15,12),0,(15,9),(12,15)],\n",
      "               [(11,15),(12,15),(14,16),(8,15),(9,15),0,(15,9)],\n",
      "               [(12,15),(10,15),(9,15),(9,15),(15,12),(9.15),0]]\n",
      "print(scoresArray)"
     ],
     "language": "python",
     "metadata": {},
     "outputs": [
      {
       "output_type": "stream",
       "stream": "stdout",
       "text": [
        "[[0, (15, 13), (15, 11), (15, 11), (15, 10), (15, 11), (15, 12)], [(13, 15), 0, (15, 9), (15, 13), (13, 15), (15, 12), (15, 10)], [(11, 15), (9, 15), 0, (15, 17), (21, 15), (16, 14), (15, 9)], [(11, 15), (10, 15), (17, 15), 0, (12, 15), (15, 8), (15, 9)], [(10, 15), (15, 13), (15, 21), (15, 12), 0, (15, 9), (12, 15)], [(11, 15), (12, 15), (14, 16), (8, 15), (9, 15), 0, (15, 9)], [(12, 15), (10, 15), (9, 15), (9, 15), (15, 12), 9.15, 0]]\n"
       ]
      }
     ],
     "prompt_number": 21
    },
    {
     "cell_type": "code",
     "collapsed": false,
     "input": [
      "# FIRST WAY\n",
      "\n",
      "# this function takes an adjacency matrix and a number n\n",
      "# and uses the power method to computer the unique positive\n",
      "# eigenvector for winMatrix, that is, it returns \n",
      "# (winMatrix^n*e)/|winMatrix^n*e|, where e is the vector of\n",
      "# all ones in the dimension of winMatrix's columns and rows.\n",
      "def directRank(adjMatrix, n):\n",
      "    r0 = []\n",
      "    for x in range(len(adjMatrix)):\n",
      "        r0.append(1)\n",
      "    r0M = matrix(r0)\n",
      "    r0 = r0M.T\n",
      "    adjN = adjMatrix**n\n",
      "    adjNdotr0 = adjN*r0\n",
      "    return(adjNdotr0/linalg.norm(adjNdotr0))\n",
      "\n",
      "# we know that this converges quickly so we'll just use\n",
      "# M^20\n",
      "r = directRank(winMatrix,20)\n",
      "print(\"r=\", r)"
     ],
     "language": "python",
     "metadata": {},
     "outputs": [
      {
       "output_type": "stream",
       "stream": "stdout",
       "text": [
        "('r=', matrix([[ 0.73813798],\n",
        "        [ 0.38410624],\n",
        "        [ 0.28872695],\n",
        "        [ 0.25908486],\n",
        "        [ 0.34945481],\n",
        "        [ 0.08103592],\n",
        "        [ 0.16864466]]))\n"
       ]
      }
     ],
     "prompt_number": 19
    },
    {
     "cell_type": "code",
     "collapsed": false,
     "input": [
      "# SECOND WAY\n",
      "\n",
      "# this way of computing a ranking vector is just like the\n",
      "# first way except that we don't simply sum entries in the \n",
      "# winMatrix, we sum a function of each entry.\n",
      "\n",
      "# this is the function that we'll apply to each entry in the\n",
      "# winMatrix\n",
      "\n",
      "def applyF(winMatrix):\n",
      "    def f(x):\n",
      "        return (0.5*x + x^2)/(2 + 0.5x + x^x)\n",
      "    # no internet so no documentation ahhh\n",
      "    # do stuff bu tno time"
     ],
     "language": "python",
     "metadata": {},
     "outputs": []
    },
    {
     "cell_type": "code",
     "collapsed": false,
     "input": [
      "!git\n"
     ],
     "language": "python",
     "metadata": {},
     "outputs": [
      {
       "output_type": "stream",
       "stream": "stdout",
       "text": [
        "usage: git [--version] [--help] [-c name=value]\r\n",
        "           [--exec-path[=<path>]] [--html-path] [--man-path] [--info-path]\r\n",
        "           [-p|--paginate|--no-pager] [--no-replace-objects] [--bare]\r\n",
        "           [--git-dir=<path>] [--work-tree=<path>] [--namespace=<name>]\r\n",
        "           <command> [<args>]\r\n",
        "\r\n",
        "The most commonly used git commands are:\r\n",
        "   add        Add file contents to the index\r\n",
        "   bisect     Find by binary search the change that introduced a bug\r\n",
        "   branch     List, create, or delete branches\r\n",
        "   checkout   Checkout a branch or paths to the working tree\r\n",
        "   clone      Clone a repository into a new directory\r\n",
        "   commit     Record changes to the repository\r\n",
        "   diff       Show changes between commits, commit and working tree, etc\r\n",
        "   fetch      Download objects and refs from another repository\r\n",
        "   grep       Print lines matching a pattern\r\n",
        "   init       Create an empty Git repository or reinitialize an existing one\r\n",
        "   log        Show commit logs\r\n",
        "   merge      Join two or more development histories together\r\n",
        "   mv         Move or rename a file, a directory, or a symlink\r\n",
        "   pull       Fetch from and integrate with another repository or a local branch\r\n",
        "   push       Update remote refs along with associated objects\r\n",
        "   rebase     Forward-port local commits to the updated upstream head\r\n",
        "   reset      Reset current HEAD to the specified state\r",
        "\r\n",
        "   rm         Remove files from the working tree and from the index\r\n",
        "   show       Show various types of objects\r\n",
        "   status     Show the working tree status\r\n",
        "   tag        Create, list, delete or verify a tag object signed with GPG\r\n",
        "\r\n",
        "'git help -a' and 'git help -g' lists available subcommands and some\r\n",
        "concept guides. See 'git help <command>' or 'git help <concept>'\r\n",
        "to read about a specific subcommand or concept.\r\n"
       ]
      }
     ],
     "prompt_number": 22
    },
    {
     "cell_type": "code",
     "collapsed": false,
     "input": [],
     "language": "python",
     "metadata": {},
     "outputs": []
    }
   ],
   "metadata": {}
  }
 ]
}